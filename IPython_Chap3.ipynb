{
 "cells": [
  {
   "cell_type": "markdown",
   "metadata": {},
   "source": [
    "# 第三章 运行Tensorflow\n",
    "\n",
    "## 在Anaconda中安装tensorflow\n",
    "\n",
    "Python环境：mac OS Sierra 10.12.5 Anaconda4.4.0 Python3.6\n",
    "打开Terminal，进入到安装目录的bin下面，\n",
    "\n",
    "➜  bin ./conda list\n",
    "\n",
    "列出安装的包。\n",
    "\n",
    "现在需要安装tensorflow，输入\n",
    "\n",
    "➜  bin ./anaconda search -t conda tensorflow\n",
    "\n",
    "![包安装源](Bitmaps/chap3/1.png)\n",
    "\n",
    "看到支持mac的都可以装，只要版本不太旧。\n",
    "\n",
    "安装前可以进一步查看包的情况\n",
    "\n",
    "➜  bin ./anaconda show conda-forge/tensorflow\n",
    "\n",
    "![包详情](Bitmaps/chap3/2.png)\n",
    "\n",
    "最后一行指出了安装的命令\n",
    "\n",
    "执行 ➜  bin ./conda install --channel https://conda.anaconda.org/conda-forge tensorflow\n",
    "\n",
    "![安装包](Bitmaps/chap3/3.png)\n",
    "\n",
    "上述过程回答y"
   ]
  },
  {
   "cell_type": "markdown",
   "metadata": {},
   "source": [
    "## 运行tensorflow示例代码"
   ]
  },
  {
   "cell_type": "code",
   "execution_count": 2,
   "metadata": {},
   "outputs": [
    {
     "name": "stdout",
     "output_type": "stream",
     "text": [
      "0,[[ 0.18690372 -0.17660421]],[ 0.98307294]\n",
      "20,[[ 0.04607465  0.05696866]],[ 0.40324542]\n",
      "40,[[ 0.07956108  0.16124342]],[ 0.33104476]\n",
      "60,[[ 0.0931792   0.18911536]],[ 0.30928797]\n",
      "80,[[ 0.09784655  0.19687207]],[ 0.30277094]\n",
      "100,[[ 0.09933861  0.19908841]],[ 0.30082536]\n",
      "120,[[ 0.0997998  0.1997321]],[ 0.30024564]\n",
      "140,[[ 0.09993988  0.19992089]],[ 0.30007306]\n",
      "160,[[ 0.09998203  0.19997658]],[ 0.30002171]\n",
      "180,[[ 0.09999463  0.19999306]],[ 0.30000645]\n",
      "200,[[ 0.09999839  0.19999795]],[ 0.30000192]\n"
     ]
    }
   ],
   "source": [
    "import tensorflow as tf\n",
    "import numpy as np\n",
    "x_data = np.float32(np.random.rand(2, 100))\n",
    "y_data = np.dot([0.100, 0.200], x_data) + 0.300\n",
    "b = tf.Variable(tf.zeros([1]))\n",
    "W = tf.Variable(tf.random_uniform([1, 2], -1.0, 1.0))\n",
    "y = tf.matmul(W, x_data) + b\n",
    "loss = tf.reduce_mean(tf.square(y - y_data))\n",
    "optimizer = tf.train.GradientDescentOptimizer(0.5)\n",
    "train = optimizer.minimize(loss)\n",
    "init = tf.global_variables_initializer()\n",
    "sess = tf.Session()\n",
    "sess.run(init)\n",
    "for step in range(0, 201):\n",
    "    sess.run(train)\n",
    "    if step % 20 == 0:\n",
    "        print('%s,%s,%s' % (step, sess.run(W), sess.run(b)))"
   ]
  },
  {
   "cell_type": "code",
   "execution_count": null,
   "metadata": {
    "collapsed": true
   },
   "outputs": [],
   "source": []
  }
 ],
 "metadata": {
  "kernelspec": {
   "display_name": "Python 3",
   "language": "python",
   "name": "python3"
  },
  "language_info": {
   "codemirror_mode": {
    "name": "ipython",
    "version": 3
   },
   "file_extension": ".py",
   "mimetype": "text/x-python",
   "name": "python",
   "nbconvert_exporter": "python",
   "pygments_lexer": "ipython3",
   "version": "3.6.1"
  }
 },
 "nbformat": 4,
 "nbformat_minor": 2
}
