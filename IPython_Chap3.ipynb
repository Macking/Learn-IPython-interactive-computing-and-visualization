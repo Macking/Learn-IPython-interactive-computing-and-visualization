{
 "cells": [
  {
   "cell_type": "markdown",
   "metadata": {},
   "source": [
    "# 第三章 运行Tensorflow\n",
    "\n",
    "## 在Anaconda中安装tensorflow\n",
    "\n",
    "Python环境：mac OS Sierra 10.12.5 Anaconda4.4.0 Python3.6\n",
    "打开Terminal，进入到安装目录的bin下面，\n",
    "\n",
    "➜  bin ./conda list\n",
    "\n",
    "列出安装的包。\n",
    "\n",
    "现在需要安装tensorflow，输入\n",
    "\n",
    "➜  bin ./anaconda search -t conda tensorflow\n",
    "\n",
    "![包安装源](Bitmaps/chap3/1.png)\n",
    "\n",
    "看到支持mac的都可以装，只要版本不太旧。\n",
    "\n",
    "安装前可以进一步查看包的情况\n",
    "\n",
    "➜  bin ./anaconda show conda-forge/tensorflow\n",
    "\n",
    "![包详情](Bitmaps/chap3/2.png)\n",
    "\n",
    "最后一行指出了安装的命令\n",
    "\n",
    "执行 ➜  bin ./conda install --channel https://conda.anaconda.org/conda-forge tensorflow\n",
    "\n",
    "![安装包](Bitmaps/chap3/3.png)\n",
    "\n",
    "上述过程回答y"
   ]
  },
  {
   "cell_type": "markdown",
   "metadata": {},
   "source": [
    "## 运行tensorflow示例代码"
   ]
  },
  {
   "cell_type": "code",
   "execution_count": 14,
   "metadata": {},
   "outputs": [
    {
     "name": "stdout",
     "output_type": "stream",
     "text": [
      "0,[[-0.31096351  0.12390709]],[ 1.12901199]\n",
      "20,[[-0.0190543   0.10502016]],[ 0.40928334]\n",
      "40,[[ 0.07628237  0.16986328]],[ 0.32786167]\n",
      "60,[[ 0.09527743  0.19070399]],[ 0.30733731]\n",
      "80,[[ 0.09906036  0.19718167]],[ 0.30198598]\n",
      "100,[[ 0.09981324  0.19915487]],[ 0.30054948]\n",
      "120,[[ 0.09996293  0.19974835]],[ 0.30015463]\n",
      "140,[[ 0.09999268  0.19992542]],[ 0.30004406]\n",
      "160,[[ 0.09999855  0.19997796]],[ 0.30001268]\n",
      "180,[[ 0.0999997   0.19999349]],[ 0.30000368]\n",
      "200,[[ 0.09999995  0.19999811]],[ 0.30000106]\n"
     ]
    },
    {
     "data": {
      "image/png": "[encoded data removed]",
      "text/plain": [
       "<matplotlib.figure.Figure at 0x11bf0a9b0>"
      ]
     },
     "metadata": {},
     "output_type": "display_data"
    }
   ],
   "source": [
    "import tensorflow as tf\n",
    "import numpy as np\n",
    "import matplotlib.pyplot as plt\n",
    "\n",
    "x_data = np.float32(np.random.rand(2, 100))\n",
    "y_data = np.dot([0.100, 0.200], x_data) + 0.300\n",
    "b = tf.Variable(tf.zeros([1]))\n",
    "W = tf.Variable(tf.random_uniform([1, 2], -1.0, 1.0))\n",
    "y = tf.matmul(W, x_data) + b\n",
    "loss = tf.reduce_mean(tf.square(y - y_data))\n",
    "optimizer = tf.train.GradientDescentOptimizer(0.5)\n",
    "train = optimizer.minimize(loss)\n",
    "init = tf.global_variables_initializer()\n",
    "sess = tf.Session()\n",
    "sess.run(init)\n",
    "x_axis = []\n",
    "y_axis = []\n",
    "for step in range(0, 201):\n",
    "    sess.run(train)\n",
    "    if step % 20 == 0:        \n",
    "        x_axis.append(step)\n",
    "        b_result = sess.run(b)\n",
    "        y_axis.append(b_result[0])\n",
    "        print('%s,%s,%s' % (step, sess.run(W), b_result))\n",
    "        \n",
    "plt.plot(x_axis, y_axis)\n",
    "plt.show()"
   ]
  },
  {
   "cell_type": "code",
   "execution_count": null,
   "metadata": {
    "collapsed": true
   },
   "outputs": [],
   "source": []
  }
 ],
 "metadata": {
  "kernelspec": {
   "display_name": "Python 3",
   "language": "python",
   "name": "python3"
  },
  "language_info": {
   "codemirror_mode": {
    "name": "ipython",
    "version": 3
   },
   "file_extension": ".py",
   "mimetype": "text/x-python",
   "name": "python",
   "nbconvert_exporter": "python",
   "pygments_lexer": "ipython3",
   "version": "3.6.1"
  }
 },
 "nbformat": 4,
 "nbformat_minor": 2
}
