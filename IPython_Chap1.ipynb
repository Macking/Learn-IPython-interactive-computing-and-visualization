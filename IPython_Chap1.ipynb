{
 "cells": [
  {
   "cell_type": "markdown",
   "metadata": {},
   "source": [
    "# 第一章 环境安装与配置\n",
    "\n",
    "## 安装\n",
    "\n",
    "通常我们是需要去 [IPython 官网](https://ipython.org/ \"IPython 官网\") 下载IPython的，但是去了之后会有一种走错门的感觉。因为网站分明写着是Jupyter。那么到底是怎么回事呢？\n",
    "\n",
    "IPython本来是比默认的Python Shell好用得多的Python交互命令行界面，Jupyter则是一个基于 IPython REPL 的 web 应用。两个是依存的关系，后来Jupyter剥离了IPython和Python解释器，变成了一个独立于解释器的工具。\n",
    "\n",
    "不过，如果不想搞那么麻烦，最好用的莫过于使用 [Anaconda](https://www.continuum.io/downloads “Anaconda 下载”) 啦，所有依赖帮你安装好。不过下载前你还会遇到一个尴尬的问题，究竟是用Python2还是Python3呢？不妨看看这篇，https://www.dataquest.io/blog/python-2-or-3/\n",
    "\n",
    "要做数据分析的话，还是建议一步到位Python3吧。"
   ]
  },
  {
   "cell_type": "markdown",
   "metadata": {},
   "source": [
    "## 启动\n",
    "\n",
    "当然是打开anaconda-navigator啦，找到notebook，点击Launch。默认就会运行一个端口为 8888的web服务器。因此从浏览器访问http://localhost:8888/ 就可以进入Notebook。一般会提示输入密码token啥的，从启动的Terminal里面找一下就有了。\n",
    "\n",
    "这时New一个Notebook，选Python 3（如果你没有安装其他解析器的话，这是唯一的一个）。\n",
    "\n",
    "给它起个名字save一下，会生成一个ipynb的文件。下次可以直接打开编辑运行，还可以Check In到Github跟其他小伙伴协调工作。\n",
    "![启动](Bitmaps/chap1/1.png)"
   ]
  },
  {
   "cell_type": "markdown",
   "metadata": {},
   "source": [
    "# 开始使用\n",
    "像上图一样，在Cell里面输入print(\"Hello world!\")，然后按Shift+Enter，就会执行这行Python脚本。\n",
    "![运行结果](Bitmaps/chap1/2.png \"运行结果\")\n",
    "\n",
    "再来一个立即数运算，\n",
    "![运行结果](Bitmaps/chap1/3.png \"运行结果\")\n",
    "\n",
    "感觉要飞了。让我们一起来探索一下更高级的命令吧\n",
    "![运行结果](Bitmaps/chap1/4.png \"运行结果\")\n",
    "\n",
    "好吧，要慢慢解释一番了。\n",
    "\n",
    "\\_  (下划线) 特殊值，保存的上一次运行的结果，所以你看到In [3]: _ * 3的结果就是12.\n",
    "\n",
    "而In [4]: \\!ls \\*\\.ipynb，执行的则是Linux的Bash命令。\n",
    "\n",
    "其实IPython强大的地方就在于可以执行除了Python脚本外的特殊命令。像In [5]: %lsmagic，就是一个打印所有magic指令的命令。"
   ]
  },
  {
   "cell_type": "code",
   "execution_count": null,
   "metadata": {
    "collapsed": true
   },
   "outputs": [],
   "source": []
  }
 ],
 "metadata": {
  "kernelspec": {
   "display_name": "Python 3",
   "language": "python",
   "name": "python3"
  },
  "language_info": {
   "codemirror_mode": {
    "name": "ipython",
    "version": 3
   },
   "file_extension": ".py",
   "mimetype": "text/x-python",
   "name": "python",
   "nbconvert_exporter": "python",
   "pygments_lexer": "ipython3",
   "version": "3.6.1"
  }
 },
 "nbformat": 4,
 "nbformat_minor": 2
}
